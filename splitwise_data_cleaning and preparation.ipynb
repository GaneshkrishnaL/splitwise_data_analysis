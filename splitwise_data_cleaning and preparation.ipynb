{
 "cells": [
  {
   "cell_type": "code",
   "execution_count": 2,
   "metadata": {},
   "outputs": [],
   "source": [
    "import pandas as pd"
   ]
  },
  {
   "cell_type": "code",
   "execution_count": 3,
   "metadata": {},
   "outputs": [],
   "source": [
    "df=pd.read_csv(r\"C:\\Users\\laksh\\Downloads\\confidence_transformed.csv\")"
   ]
  },
  {
   "cell_type": "code",
   "execution_count": 4,
   "metadata": {},
   "outputs": [
    {
     "data": {
      "text/html": [
       "<div>\n",
       "<style scoped>\n",
       "    .dataframe tbody tr th:only-of-type {\n",
       "        vertical-align: middle;\n",
       "    }\n",
       "\n",
       "    .dataframe tbody tr th {\n",
       "        vertical-align: top;\n",
       "    }\n",
       "\n",
       "    .dataframe thead th {\n",
       "        text-align: right;\n",
       "    }\n",
       "</style>\n",
       "<table border=\"1\" class=\"dataframe\">\n",
       "  <thead>\n",
       "    <tr style=\"text-align: right;\">\n",
       "      <th></th>\n",
       "      <th>Date</th>\n",
       "      <th>Description</th>\n",
       "      <th>Category</th>\n",
       "      <th>Cost</th>\n",
       "      <th>Currency</th>\n",
       "      <th>Surya</th>\n",
       "      <th>Ganesh Krishna Lakshmisetty</th>\n",
       "      <th>kanna karthik reddy</th>\n",
       "      <th>Sayed Mohammad Sohail</th>\n",
       "      <th>Gurudatta Tej Marupudi</th>\n",
       "      <th>K Nithin</th>\n",
       "      <th>Saimanassagar (removed)</th>\n",
       "      <th>Sai Gopal (removed)</th>\n",
       "    </tr>\n",
       "  </thead>\n",
       "  <tbody>\n",
       "    <tr>\n",
       "      <th>0</th>\n",
       "      <td>2022-11-02</td>\n",
       "      <td>Halal Chicken</td>\n",
       "      <td>Groceries</td>\n",
       "      <td>21.78</td>\n",
       "      <td>USD</td>\n",
       "      <td>-5.44</td>\n",
       "      <td>16.33</td>\n",
       "      <td>-5.44</td>\n",
       "      <td>-5.45</td>\n",
       "      <td>0.00</td>\n",
       "      <td>0.00</td>\n",
       "      <td>0.0</td>\n",
       "      <td>0.0</td>\n",
       "    </tr>\n",
       "    <tr>\n",
       "      <th>1</th>\n",
       "      <td>2022-11-03</td>\n",
       "      <td>American Fast Foods</td>\n",
       "      <td>General</td>\n",
       "      <td>5.19</td>\n",
       "      <td>USD</td>\n",
       "      <td>-1.30</td>\n",
       "      <td>-1.30</td>\n",
       "      <td>-1.29</td>\n",
       "      <td>3.89</td>\n",
       "      <td>0.00</td>\n",
       "      <td>0.00</td>\n",
       "      <td>0.0</td>\n",
       "      <td>0.0</td>\n",
       "    </tr>\n",
       "    <tr>\n",
       "      <th>2</th>\n",
       "      <td>2022-11-03</td>\n",
       "      <td>Uber_and_Lyft</td>\n",
       "      <td>Taxi</td>\n",
       "      <td>9.66</td>\n",
       "      <td>USD</td>\n",
       "      <td>7.24</td>\n",
       "      <td>-2.42</td>\n",
       "      <td>-2.41</td>\n",
       "      <td>-2.41</td>\n",
       "      <td>0.00</td>\n",
       "      <td>0.00</td>\n",
       "      <td>0.0</td>\n",
       "      <td>0.0</td>\n",
       "    </tr>\n",
       "    <tr>\n",
       "      <th>3</th>\n",
       "      <td>2022-11-03</td>\n",
       "      <td>Household</td>\n",
       "      <td>General</td>\n",
       "      <td>23.72</td>\n",
       "      <td>USD</td>\n",
       "      <td>-3.95</td>\n",
       "      <td>-3.95</td>\n",
       "      <td>-3.95</td>\n",
       "      <td>19.76</td>\n",
       "      <td>-3.96</td>\n",
       "      <td>-3.95</td>\n",
       "      <td>0.0</td>\n",
       "      <td>0.0</td>\n",
       "    </tr>\n",
       "    <tr>\n",
       "      <th>4</th>\n",
       "      <td>2022-11-04</td>\n",
       "      <td>Uber_and_Lyft</td>\n",
       "      <td>Taxi</td>\n",
       "      <td>33.01</td>\n",
       "      <td>USD</td>\n",
       "      <td>-5.50</td>\n",
       "      <td>-5.50</td>\n",
       "      <td>-5.51</td>\n",
       "      <td>-5.50</td>\n",
       "      <td>-5.50</td>\n",
       "      <td>27.51</td>\n",
       "      <td>0.0</td>\n",
       "      <td>0.0</td>\n",
       "    </tr>\n",
       "  </tbody>\n",
       "</table>\n",
       "</div>"
      ],
      "text/plain": [
       "         Date          Description   Category   Cost Currency  Surya  \\\n",
       "0  2022-11-02        Halal Chicken  Groceries  21.78      USD  -5.44   \n",
       "1  2022-11-03  American Fast Foods    General   5.19      USD  -1.30   \n",
       "2  2022-11-03        Uber_and_Lyft       Taxi   9.66      USD   7.24   \n",
       "3  2022-11-03            Household    General  23.72      USD  -3.95   \n",
       "4  2022-11-04        Uber_and_Lyft       Taxi  33.01      USD  -5.50   \n",
       "\n",
       "   Ganesh Krishna Lakshmisetty  kanna karthik reddy  Sayed Mohammad Sohail  \\\n",
       "0                        16.33                -5.44                  -5.45   \n",
       "1                        -1.30                -1.29                   3.89   \n",
       "2                        -2.42                -2.41                  -2.41   \n",
       "3                        -3.95                -3.95                  19.76   \n",
       "4                        -5.50                -5.51                  -5.50   \n",
       "\n",
       "   Gurudatta Tej Marupudi  K Nithin  Saimanassagar (removed)  \\\n",
       "0                    0.00      0.00                      0.0   \n",
       "1                    0.00      0.00                      0.0   \n",
       "2                    0.00      0.00                      0.0   \n",
       "3                   -3.96     -3.95                      0.0   \n",
       "4                   -5.50     27.51                      0.0   \n",
       "\n",
       "   Sai Gopal (removed)  \n",
       "0                  0.0  \n",
       "1                  0.0  \n",
       "2                  0.0  \n",
       "3                  0.0  \n",
       "4                  0.0  "
      ]
     },
     "execution_count": 4,
     "metadata": {},
     "output_type": "execute_result"
    }
   ],
   "source": [
    "df.head(5)"
   ]
  },
  {
   "cell_type": "markdown",
   "metadata": {},
   "source": [
    "## creating a new column to know who paid for the expense"
   ]
  },
  {
   "cell_type": "code",
   "execution_count": 5,
   "metadata": {},
   "outputs": [
    {
     "data": {
      "text/html": [
       "<div>\n",
       "<style scoped>\n",
       "    .dataframe tbody tr th:only-of-type {\n",
       "        vertical-align: middle;\n",
       "    }\n",
       "\n",
       "    .dataframe tbody tr th {\n",
       "        vertical-align: top;\n",
       "    }\n",
       "\n",
       "    .dataframe thead th {\n",
       "        text-align: right;\n",
       "    }\n",
       "</style>\n",
       "<table border=\"1\" class=\"dataframe\">\n",
       "  <thead>\n",
       "    <tr style=\"text-align: right;\">\n",
       "      <th></th>\n",
       "      <th>Date</th>\n",
       "      <th>Description</th>\n",
       "      <th>Category</th>\n",
       "      <th>Cost</th>\n",
       "      <th>Currency</th>\n",
       "      <th>Surya</th>\n",
       "      <th>Ganesh Krishna Lakshmisetty</th>\n",
       "      <th>kanna karthik reddy</th>\n",
       "      <th>Sayed Mohammad Sohail</th>\n",
       "      <th>Gurudatta Tej Marupudi</th>\n",
       "      <th>K Nithin</th>\n",
       "      <th>Saimanassagar (removed)</th>\n",
       "      <th>Sai Gopal (removed)</th>\n",
       "      <th>Person_spent</th>\n",
       "    </tr>\n",
       "  </thead>\n",
       "  <tbody>\n",
       "    <tr>\n",
       "      <th>0</th>\n",
       "      <td>2022-11-02</td>\n",
       "      <td>Halal Chicken</td>\n",
       "      <td>Groceries</td>\n",
       "      <td>21.78</td>\n",
       "      <td>USD</td>\n",
       "      <td>-5.44</td>\n",
       "      <td>16.33</td>\n",
       "      <td>-5.44</td>\n",
       "      <td>-5.45</td>\n",
       "      <td>0.00</td>\n",
       "      <td>0.00</td>\n",
       "      <td>0.0</td>\n",
       "      <td>0.0</td>\n",
       "      <td>Ganesh Krishna Lakshmisetty</td>\n",
       "    </tr>\n",
       "    <tr>\n",
       "      <th>1</th>\n",
       "      <td>2022-11-03</td>\n",
       "      <td>American Fast Foods</td>\n",
       "      <td>General</td>\n",
       "      <td>5.19</td>\n",
       "      <td>USD</td>\n",
       "      <td>-1.30</td>\n",
       "      <td>-1.30</td>\n",
       "      <td>-1.29</td>\n",
       "      <td>3.89</td>\n",
       "      <td>0.00</td>\n",
       "      <td>0.00</td>\n",
       "      <td>0.0</td>\n",
       "      <td>0.0</td>\n",
       "      <td>Sayed Mohammad Sohail</td>\n",
       "    </tr>\n",
       "    <tr>\n",
       "      <th>2</th>\n",
       "      <td>2022-11-03</td>\n",
       "      <td>Uber_and_Lyft</td>\n",
       "      <td>Taxi</td>\n",
       "      <td>9.66</td>\n",
       "      <td>USD</td>\n",
       "      <td>7.24</td>\n",
       "      <td>-2.42</td>\n",
       "      <td>-2.41</td>\n",
       "      <td>-2.41</td>\n",
       "      <td>0.00</td>\n",
       "      <td>0.00</td>\n",
       "      <td>0.0</td>\n",
       "      <td>0.0</td>\n",
       "      <td>Surya</td>\n",
       "    </tr>\n",
       "    <tr>\n",
       "      <th>3</th>\n",
       "      <td>2022-11-03</td>\n",
       "      <td>Household</td>\n",
       "      <td>General</td>\n",
       "      <td>23.72</td>\n",
       "      <td>USD</td>\n",
       "      <td>-3.95</td>\n",
       "      <td>-3.95</td>\n",
       "      <td>-3.95</td>\n",
       "      <td>19.76</td>\n",
       "      <td>-3.96</td>\n",
       "      <td>-3.95</td>\n",
       "      <td>0.0</td>\n",
       "      <td>0.0</td>\n",
       "      <td>Sayed Mohammad Sohail</td>\n",
       "    </tr>\n",
       "    <tr>\n",
       "      <th>4</th>\n",
       "      <td>2022-11-04</td>\n",
       "      <td>Uber_and_Lyft</td>\n",
       "      <td>Taxi</td>\n",
       "      <td>33.01</td>\n",
       "      <td>USD</td>\n",
       "      <td>-5.50</td>\n",
       "      <td>-5.50</td>\n",
       "      <td>-5.51</td>\n",
       "      <td>-5.50</td>\n",
       "      <td>-5.50</td>\n",
       "      <td>27.51</td>\n",
       "      <td>0.0</td>\n",
       "      <td>0.0</td>\n",
       "      <td>K Nithin</td>\n",
       "    </tr>\n",
       "  </tbody>\n",
       "</table>\n",
       "</div>"
      ],
      "text/plain": [
       "         Date          Description   Category   Cost Currency  Surya  \\\n",
       "0  2022-11-02        Halal Chicken  Groceries  21.78      USD  -5.44   \n",
       "1  2022-11-03  American Fast Foods    General   5.19      USD  -1.30   \n",
       "2  2022-11-03        Uber_and_Lyft       Taxi   9.66      USD   7.24   \n",
       "3  2022-11-03            Household    General  23.72      USD  -3.95   \n",
       "4  2022-11-04        Uber_and_Lyft       Taxi  33.01      USD  -5.50   \n",
       "\n",
       "   Ganesh Krishna Lakshmisetty  kanna karthik reddy  Sayed Mohammad Sohail  \\\n",
       "0                        16.33                -5.44                  -5.45   \n",
       "1                        -1.30                -1.29                   3.89   \n",
       "2                        -2.42                -2.41                  -2.41   \n",
       "3                        -3.95                -3.95                  19.76   \n",
       "4                        -5.50                -5.51                  -5.50   \n",
       "\n",
       "   Gurudatta Tej Marupudi  K Nithin  Saimanassagar (removed)  \\\n",
       "0                    0.00      0.00                      0.0   \n",
       "1                    0.00      0.00                      0.0   \n",
       "2                    0.00      0.00                      0.0   \n",
       "3                   -3.96     -3.95                      0.0   \n",
       "4                   -5.50     27.51                      0.0   \n",
       "\n",
       "   Sai Gopal (removed)                 Person_spent  \n",
       "0                  0.0  Ganesh Krishna Lakshmisetty  \n",
       "1                  0.0        Sayed Mohammad Sohail  \n",
       "2                  0.0                        Surya  \n",
       "3                  0.0        Sayed Mohammad Sohail  \n",
       "4                  0.0                     K Nithin  "
      ]
     },
     "execution_count": 5,
     "metadata": {},
     "output_type": "execute_result"
    }
   ],
   "source": [
    "df['Person_spent'] = df[['Surya', 'Ganesh Krishna Lakshmisetty', 'kanna karthik reddy',\n",
    "                         'Sayed Mohammad Sohail', 'Gurudatta Tej Marupudi', 'K Nithin',\n",
    "                         'Saimanassagar (removed)', 'Sai Gopal (removed)']].idxmax(axis=1)\n",
    "\n",
    "\n",
    "df.head(5)\n"
   ]
  },
  {
   "cell_type": "markdown",
   "metadata": {},
   "source": [
    "## Now dropping the columns of names"
   ]
  },
  {
   "cell_type": "code",
   "execution_count": 6,
   "metadata": {},
   "outputs": [],
   "source": [
    "\n",
    "df.drop(columns=['Surya', 'Ganesh Krishna Lakshmisetty', 'kanna karthik reddy',\n",
    "                 'Sayed Mohammad Sohail', 'Gurudatta Tej Marupudi', 'K Nithin',\n",
    "                 'Saimanassagar (removed)', 'Sai Gopal (removed)'], inplace=True)\n",
    "\n"
   ]
  },
  {
   "cell_type": "code",
   "execution_count": 7,
   "metadata": {},
   "outputs": [
    {
     "data": {
      "text/plain": [
       "Index(['Date', 'Description', 'Category', 'Cost', 'Currency', 'Person_spent'], dtype='object')"
      ]
     },
     "execution_count": 7,
     "metadata": {},
     "output_type": "execute_result"
    }
   ],
   "source": [
    "df.columns"
   ]
  },
  {
   "cell_type": "code",
   "execution_count": 8,
   "metadata": {},
   "outputs": [
    {
     "data": {
      "text/html": [
       "<div>\n",
       "<style scoped>\n",
       "    .dataframe tbody tr th:only-of-type {\n",
       "        vertical-align: middle;\n",
       "    }\n",
       "\n",
       "    .dataframe tbody tr th {\n",
       "        vertical-align: top;\n",
       "    }\n",
       "\n",
       "    .dataframe thead th {\n",
       "        text-align: right;\n",
       "    }\n",
       "</style>\n",
       "<table border=\"1\" class=\"dataframe\">\n",
       "  <thead>\n",
       "    <tr style=\"text-align: right;\">\n",
       "      <th></th>\n",
       "      <th>Date</th>\n",
       "      <th>Description</th>\n",
       "      <th>Category</th>\n",
       "      <th>Cost</th>\n",
       "      <th>Currency</th>\n",
       "      <th>Person_spent</th>\n",
       "    </tr>\n",
       "  </thead>\n",
       "  <tbody>\n",
       "    <tr>\n",
       "      <th>count</th>\n",
       "      <td>593</td>\n",
       "      <td>593</td>\n",
       "      <td>593</td>\n",
       "      <td>593</td>\n",
       "      <td>593</td>\n",
       "      <td>593</td>\n",
       "    </tr>\n",
       "    <tr>\n",
       "      <th>unique</th>\n",
       "      <td>216</td>\n",
       "      <td>60</td>\n",
       "      <td>15</td>\n",
       "      <td>467</td>\n",
       "      <td>1</td>\n",
       "      <td>8</td>\n",
       "    </tr>\n",
       "    <tr>\n",
       "      <th>top</th>\n",
       "      <td>2023-04-30</td>\n",
       "      <td>Indian groceries</td>\n",
       "      <td>General</td>\n",
       "      <td>12.00</td>\n",
       "      <td>USD</td>\n",
       "      <td>Sayed Mohammad Sohail</td>\n",
       "    </tr>\n",
       "    <tr>\n",
       "      <th>freq</th>\n",
       "      <td>17</td>\n",
       "      <td>124</td>\n",
       "      <td>280</td>\n",
       "      <td>10</td>\n",
       "      <td>593</td>\n",
       "      <td>126</td>\n",
       "    </tr>\n",
       "  </tbody>\n",
       "</table>\n",
       "</div>"
      ],
      "text/plain": [
       "              Date       Description Category   Cost Currency  \\\n",
       "count          593               593      593    593      593   \n",
       "unique         216                60       15    467        1   \n",
       "top     2023-04-30  Indian groceries  General  12.00      USD   \n",
       "freq            17               124      280     10      593   \n",
       "\n",
       "                 Person_spent  \n",
       "count                     593  \n",
       "unique                      8  \n",
       "top     Sayed Mohammad Sohail  \n",
       "freq                      126  "
      ]
     },
     "execution_count": 8,
     "metadata": {},
     "output_type": "execute_result"
    }
   ],
   "source": [
    "df.describe()"
   ]
  },
  {
   "cell_type": "code",
   "execution_count": 9,
   "metadata": {},
   "outputs": [
    {
     "name": "stdout",
     "output_type": "stream",
     "text": [
      "<class 'pandas.core.frame.DataFrame'>\n",
      "RangeIndex: 593 entries, 0 to 592\n",
      "Data columns (total 6 columns):\n",
      " #   Column        Non-Null Count  Dtype \n",
      "---  ------        --------------  ----- \n",
      " 0   Date          593 non-null    object\n",
      " 1   Description   593 non-null    object\n",
      " 2   Category      593 non-null    object\n",
      " 3   Cost          593 non-null    object\n",
      " 4   Currency      593 non-null    object\n",
      " 5   Person_spent  593 non-null    object\n",
      "dtypes: object(6)\n",
      "memory usage: 27.9+ KB\n"
     ]
    }
   ],
   "source": [
    "df.info()"
   ]
  },
  {
   "cell_type": "markdown",
   "metadata": {},
   "source": [
    "## Lets assign proper data types"
   ]
  },
  {
   "cell_type": "code",
   "execution_count": 10,
   "metadata": {},
   "outputs": [
    {
     "ename": "ValueError",
     "evalue": "Unable to parse string \" \" at position 592",
     "output_type": "error",
     "traceback": [
      "\u001b[1;31m---------------------------------------------------------------------------\u001b[0m",
      "\u001b[1;31mValueError\u001b[0m                                Traceback (most recent call last)",
      "File \u001b[1;32mlib.pyx:2368\u001b[0m, in \u001b[0;36mpandas._libs.lib.maybe_convert_numeric\u001b[1;34m()\u001b[0m\n",
      "\u001b[1;31mValueError\u001b[0m: Unable to parse string \" \"",
      "\nDuring handling of the above exception, another exception occurred:\n",
      "\u001b[1;31mValueError\u001b[0m                                Traceback (most recent call last)",
      "Cell \u001b[1;32mIn[10], line 1\u001b[0m\n\u001b[1;32m----> 1\u001b[0m df[\u001b[38;5;124m'\u001b[39m\u001b[38;5;124mCost\u001b[39m\u001b[38;5;124m'\u001b[39m]\u001b[38;5;241m=\u001b[39m\u001b[43mpd\u001b[49m\u001b[38;5;241;43m.\u001b[39;49m\u001b[43mto_numeric\u001b[49m\u001b[43m(\u001b[49m\u001b[43mdf\u001b[49m\u001b[43m[\u001b[49m\u001b[38;5;124;43m'\u001b[39;49m\u001b[38;5;124;43mCost\u001b[39;49m\u001b[38;5;124;43m'\u001b[39;49m\u001b[43m]\u001b[49m\u001b[43m)\u001b[49m\n\u001b[0;32m      2\u001b[0m df[\u001b[38;5;124m'\u001b[39m\u001b[38;5;124mDate\u001b[39m\u001b[38;5;124m'\u001b[39m]\u001b[38;5;241m=\u001b[39mpd\u001b[38;5;241m.\u001b[39mto_datetime(df[\u001b[38;5;124m'\u001b[39m\u001b[38;5;124mDate\u001b[39m\u001b[38;5;124m'\u001b[39m])\n",
      "File \u001b[1;32mc:\\Python312\\Lib\\site-packages\\pandas\\core\\tools\\numeric.py:222\u001b[0m, in \u001b[0;36mto_numeric\u001b[1;34m(arg, errors, downcast, dtype_backend)\u001b[0m\n\u001b[0;32m    220\u001b[0m coerce_numeric \u001b[38;5;241m=\u001b[39m errors \u001b[38;5;129;01mnot\u001b[39;00m \u001b[38;5;129;01min\u001b[39;00m (\u001b[38;5;124m\"\u001b[39m\u001b[38;5;124mignore\u001b[39m\u001b[38;5;124m\"\u001b[39m, \u001b[38;5;124m\"\u001b[39m\u001b[38;5;124mraise\u001b[39m\u001b[38;5;124m\"\u001b[39m)\n\u001b[0;32m    221\u001b[0m \u001b[38;5;28;01mtry\u001b[39;00m:\n\u001b[1;32m--> 222\u001b[0m     values, new_mask \u001b[38;5;241m=\u001b[39m \u001b[43mlib\u001b[49m\u001b[38;5;241;43m.\u001b[39;49m\u001b[43mmaybe_convert_numeric\u001b[49m\u001b[43m(\u001b[49m\u001b[43m  \u001b[49m\u001b[38;5;66;43;03m# type: ignore[call-overload]  # noqa: E501\u001b[39;49;00m\n\u001b[0;32m    223\u001b[0m \u001b[43m        \u001b[49m\u001b[43mvalues\u001b[49m\u001b[43m,\u001b[49m\n\u001b[0;32m    224\u001b[0m \u001b[43m        \u001b[49m\u001b[38;5;28;43mset\u001b[39;49m\u001b[43m(\u001b[49m\u001b[43m)\u001b[49m\u001b[43m,\u001b[49m\n\u001b[0;32m    225\u001b[0m \u001b[43m        \u001b[49m\u001b[43mcoerce_numeric\u001b[49m\u001b[38;5;241;43m=\u001b[39;49m\u001b[43mcoerce_numeric\u001b[49m\u001b[43m,\u001b[49m\n\u001b[0;32m    226\u001b[0m \u001b[43m        \u001b[49m\u001b[43mconvert_to_masked_nullable\u001b[49m\u001b[38;5;241;43m=\u001b[39;49m\u001b[43mdtype_backend\u001b[49m\u001b[43m \u001b[49m\u001b[38;5;129;43;01mis\u001b[39;49;00m\u001b[43m \u001b[49m\u001b[38;5;129;43;01mnot\u001b[39;49;00m\u001b[43m \u001b[49m\u001b[43mlib\u001b[49m\u001b[38;5;241;43m.\u001b[39;49m\u001b[43mno_default\u001b[49m\n\u001b[0;32m    227\u001b[0m \u001b[43m        \u001b[49m\u001b[38;5;129;43;01mor\u001b[39;49;00m\u001b[43m \u001b[49m\u001b[38;5;28;43misinstance\u001b[39;49m\u001b[43m(\u001b[49m\u001b[43mvalues_dtype\u001b[49m\u001b[43m,\u001b[49m\u001b[43m \u001b[49m\u001b[43mStringDtype\u001b[49m\u001b[43m)\u001b[49m\u001b[43m,\u001b[49m\n\u001b[0;32m    228\u001b[0m \u001b[43m    \u001b[49m\u001b[43m)\u001b[49m\n\u001b[0;32m    229\u001b[0m \u001b[38;5;28;01mexcept\u001b[39;00m (\u001b[38;5;167;01mValueError\u001b[39;00m, \u001b[38;5;167;01mTypeError\u001b[39;00m):\n\u001b[0;32m    230\u001b[0m     \u001b[38;5;28;01mif\u001b[39;00m errors \u001b[38;5;241m==\u001b[39m \u001b[38;5;124m\"\u001b[39m\u001b[38;5;124mraise\u001b[39m\u001b[38;5;124m\"\u001b[39m:\n",
      "File \u001b[1;32mlib.pyx:2410\u001b[0m, in \u001b[0;36mpandas._libs.lib.maybe_convert_numeric\u001b[1;34m()\u001b[0m\n",
      "\u001b[1;31mValueError\u001b[0m: Unable to parse string \" \" at position 592"
     ]
    }
   ],
   "source": [
    "df['Cost']=pd.to_numeric(df['Cost'])\n",
    "df['Date']=pd.to_datetime(df['Date'])"
   ]
  },
  {
   "cell_type": "markdown",
   "metadata": {},
   "source": [
    "### replacing empty strings to nan values"
   ]
  },
  {
   "cell_type": "code",
   "execution_count": 11,
   "metadata": {},
   "outputs": [],
   "source": [
    "import numpy as np\n",
    "\n",
    "# Replace empty strings with NaN\n",
    "df['Cost'] = df['Cost'].replace(r'^\\s*$', np.nan, regex=True)\n",
    "\n",
    "\n",
    "df['Cost'] = pd.to_numeric(df['Cost'])\n",
    "\n",
    "\n",
    "df['Date'] = pd.to_datetime(df['Date'])\n"
   ]
  },
  {
   "cell_type": "code",
   "execution_count": 12,
   "metadata": {},
   "outputs": [
    {
     "name": "stdout",
     "output_type": "stream",
     "text": [
      "<class 'pandas.core.frame.DataFrame'>\n",
      "RangeIndex: 593 entries, 0 to 592\n",
      "Data columns (total 6 columns):\n",
      " #   Column        Non-Null Count  Dtype         \n",
      "---  ------        --------------  -----         \n",
      " 0   Date          593 non-null    datetime64[ns]\n",
      " 1   Description   593 non-null    object        \n",
      " 2   Category      593 non-null    object        \n",
      " 3   Cost          592 non-null    float64       \n",
      " 4   Currency      593 non-null    object        \n",
      " 5   Person_spent  593 non-null    object        \n",
      "dtypes: datetime64[ns](1), float64(1), object(4)\n",
      "memory usage: 27.9+ KB\n"
     ]
    }
   ],
   "source": [
    "df.info()"
   ]
  },
  {
   "cell_type": "markdown",
   "metadata": {},
   "source": [
    "## removing currency column as it is not required"
   ]
  },
  {
   "cell_type": "code",
   "execution_count": 13,
   "metadata": {},
   "outputs": [],
   "source": [
    "df.drop(columns=['Currency'],inplace=True)"
   ]
  },
  {
   "cell_type": "code",
   "execution_count": 14,
   "metadata": {},
   "outputs": [
    {
     "data": {
      "text/html": [
       "<div>\n",
       "<style scoped>\n",
       "    .dataframe tbody tr th:only-of-type {\n",
       "        vertical-align: middle;\n",
       "    }\n",
       "\n",
       "    .dataframe tbody tr th {\n",
       "        vertical-align: top;\n",
       "    }\n",
       "\n",
       "    .dataframe thead th {\n",
       "        text-align: right;\n",
       "    }\n",
       "</style>\n",
       "<table border=\"1\" class=\"dataframe\">\n",
       "  <thead>\n",
       "    <tr style=\"text-align: right;\">\n",
       "      <th></th>\n",
       "      <th>Date</th>\n",
       "      <th>Description</th>\n",
       "      <th>Category</th>\n",
       "      <th>Cost</th>\n",
       "      <th>Person_spent</th>\n",
       "    </tr>\n",
       "  </thead>\n",
       "  <tbody>\n",
       "    <tr>\n",
       "      <th>0</th>\n",
       "      <td>2022-11-02</td>\n",
       "      <td>Halal Chicken</td>\n",
       "      <td>Groceries</td>\n",
       "      <td>21.78</td>\n",
       "      <td>Ganesh Krishna Lakshmisetty</td>\n",
       "    </tr>\n",
       "    <tr>\n",
       "      <th>1</th>\n",
       "      <td>2022-11-03</td>\n",
       "      <td>American Fast Foods</td>\n",
       "      <td>General</td>\n",
       "      <td>5.19</td>\n",
       "      <td>Sayed Mohammad Sohail</td>\n",
       "    </tr>\n",
       "  </tbody>\n",
       "</table>\n",
       "</div>"
      ],
      "text/plain": [
       "        Date          Description   Category   Cost  \\\n",
       "0 2022-11-02        Halal Chicken  Groceries  21.78   \n",
       "1 2022-11-03  American Fast Foods    General   5.19   \n",
       "\n",
       "                  Person_spent  \n",
       "0  Ganesh Krishna Lakshmisetty  \n",
       "1        Sayed Mohammad Sohail  "
      ]
     },
     "execution_count": 14,
     "metadata": {},
     "output_type": "execute_result"
    }
   ],
   "source": [
    "df.head(2)"
   ]
  },
  {
   "cell_type": "markdown",
   "metadata": {},
   "source": [
    "## checking duplicates"
   ]
  },
  {
   "cell_type": "code",
   "execution_count": 15,
   "metadata": {},
   "outputs": [
    {
     "data": {
      "text/plain": [
       "2"
      ]
     },
     "execution_count": 15,
     "metadata": {},
     "output_type": "execute_result"
    }
   ],
   "source": [
    "df.duplicated().sum()"
   ]
  },
  {
   "cell_type": "code",
   "execution_count": 16,
   "metadata": {},
   "outputs": [
    {
     "data": {
      "text/html": [
       "<div>\n",
       "<style scoped>\n",
       "    .dataframe tbody tr th:only-of-type {\n",
       "        vertical-align: middle;\n",
       "    }\n",
       "\n",
       "    .dataframe tbody tr th {\n",
       "        vertical-align: top;\n",
       "    }\n",
       "\n",
       "    .dataframe thead th {\n",
       "        text-align: right;\n",
       "    }\n",
       "</style>\n",
       "<table border=\"1\" class=\"dataframe\">\n",
       "  <thead>\n",
       "    <tr style=\"text-align: right;\">\n",
       "      <th></th>\n",
       "      <th>Date</th>\n",
       "      <th>Description</th>\n",
       "      <th>Category</th>\n",
       "      <th>Cost</th>\n",
       "      <th>Person_spent</th>\n",
       "    </tr>\n",
       "  </thead>\n",
       "  <tbody>\n",
       "    <tr>\n",
       "      <th>284</th>\n",
       "      <td>2023-04-30</td>\n",
       "      <td>Household</td>\n",
       "      <td>General</td>\n",
       "      <td>1.25</td>\n",
       "      <td>kanna karthik reddy</td>\n",
       "    </tr>\n",
       "    <tr>\n",
       "      <th>285</th>\n",
       "      <td>2023-04-30</td>\n",
       "      <td>Household</td>\n",
       "      <td>General</td>\n",
       "      <td>1.25</td>\n",
       "      <td>kanna karthik reddy</td>\n",
       "    </tr>\n",
       "    <tr>\n",
       "      <th>560</th>\n",
       "      <td>2024-04-04</td>\n",
       "      <td>Gas</td>\n",
       "      <td>Gifts</td>\n",
       "      <td>25.00</td>\n",
       "      <td>Gurudatta Tej Marupudi</td>\n",
       "    </tr>\n",
       "    <tr>\n",
       "      <th>561</th>\n",
       "      <td>2024-04-04</td>\n",
       "      <td>Gas</td>\n",
       "      <td>Gifts</td>\n",
       "      <td>25.00</td>\n",
       "      <td>Gurudatta Tej Marupudi</td>\n",
       "    </tr>\n",
       "  </tbody>\n",
       "</table>\n",
       "</div>"
      ],
      "text/plain": [
       "          Date Description Category   Cost            Person_spent\n",
       "284 2023-04-30   Household  General   1.25     kanna karthik reddy\n",
       "285 2023-04-30   Household  General   1.25     kanna karthik reddy\n",
       "560 2024-04-04         Gas    Gifts  25.00  Gurudatta Tej Marupudi\n",
       "561 2024-04-04         Gas    Gifts  25.00  Gurudatta Tej Marupudi"
      ]
     },
     "execution_count": 16,
     "metadata": {},
     "output_type": "execute_result"
    }
   ],
   "source": [
    "df[df.duplicated(keep=False) == True]\n"
   ]
  },
  {
   "cell_type": "code",
   "execution_count": 17,
   "metadata": {},
   "outputs": [],
   "source": [
    "df.drop_duplicates(inplace=True)"
   ]
  },
  {
   "cell_type": "code",
   "execution_count": 18,
   "metadata": {},
   "outputs": [
    {
     "data": {
      "text/plain": [
       "0"
      ]
     },
     "execution_count": 18,
     "metadata": {},
     "output_type": "execute_result"
    }
   ],
   "source": [
    "df.duplicated().sum()"
   ]
  },
  {
   "cell_type": "markdown",
   "metadata": {},
   "source": [
    "## checking missing values"
   ]
  },
  {
   "cell_type": "code",
   "execution_count": 19,
   "metadata": {},
   "outputs": [
    {
     "data": {
      "text/plain": [
       "Date            0\n",
       "Description     0\n",
       "Category        0\n",
       "Cost            1\n",
       "Person_spent    0\n",
       "dtype: int64"
      ]
     },
     "execution_count": 19,
     "metadata": {},
     "output_type": "execute_result"
    }
   ],
   "source": [
    "df.isnull().sum()"
   ]
  },
  {
   "cell_type": "code",
   "execution_count": 20,
   "metadata": {},
   "outputs": [
    {
     "data": {
      "text/html": [
       "<div>\n",
       "<style scoped>\n",
       "    .dataframe tbody tr th:only-of-type {\n",
       "        vertical-align: middle;\n",
       "    }\n",
       "\n",
       "    .dataframe tbody tr th {\n",
       "        vertical-align: top;\n",
       "    }\n",
       "\n",
       "    .dataframe thead th {\n",
       "        text-align: right;\n",
       "    }\n",
       "</style>\n",
       "<table border=\"1\" class=\"dataframe\">\n",
       "  <thead>\n",
       "    <tr style=\"text-align: right;\">\n",
       "      <th></th>\n",
       "      <th>Date</th>\n",
       "      <th>Description</th>\n",
       "      <th>Category</th>\n",
       "      <th>Cost</th>\n",
       "      <th>Person_spent</th>\n",
       "    </tr>\n",
       "  </thead>\n",
       "  <tbody>\n",
       "    <tr>\n",
       "      <th>592</th>\n",
       "      <td>2024-05-02</td>\n",
       "      <td>total balance</td>\n",
       "      <td></td>\n",
       "      <td>NaN</td>\n",
       "      <td>Gurudatta Tej Marupudi</td>\n",
       "    </tr>\n",
       "  </tbody>\n",
       "</table>\n",
       "</div>"
      ],
      "text/plain": [
       "          Date    Description Category  Cost            Person_spent\n",
       "592 2024-05-02  total balance            NaN  Gurudatta Tej Marupudi"
      ]
     },
     "execution_count": 20,
     "metadata": {},
     "output_type": "execute_result"
    }
   ],
   "source": [
    "df[df[\"Cost\"].isnull()]"
   ]
  },
  {
   "cell_type": "markdown",
   "metadata": {},
   "source": [
    "### looks like a inappropriate record based on description, so lets drop it"
   ]
  },
  {
   "cell_type": "code",
   "execution_count": 21,
   "metadata": {},
   "outputs": [],
   "source": [
    "df.dropna(inplace=True)"
   ]
  },
  {
   "cell_type": "code",
   "execution_count": 22,
   "metadata": {},
   "outputs": [
    {
     "data": {
      "text/html": [
       "<div>\n",
       "<style scoped>\n",
       "    .dataframe tbody tr th:only-of-type {\n",
       "        vertical-align: middle;\n",
       "    }\n",
       "\n",
       "    .dataframe tbody tr th {\n",
       "        vertical-align: top;\n",
       "    }\n",
       "\n",
       "    .dataframe thead th {\n",
       "        text-align: right;\n",
       "    }\n",
       "</style>\n",
       "<table border=\"1\" class=\"dataframe\">\n",
       "  <thead>\n",
       "    <tr style=\"text-align: right;\">\n",
       "      <th></th>\n",
       "      <th>Date</th>\n",
       "      <th>Description</th>\n",
       "      <th>Category</th>\n",
       "      <th>Cost</th>\n",
       "      <th>Person_spent</th>\n",
       "    </tr>\n",
       "  </thead>\n",
       "  <tbody>\n",
       "    <tr>\n",
       "      <th>0</th>\n",
       "      <td>2022-11-02</td>\n",
       "      <td>Halal Chicken</td>\n",
       "      <td>Groceries</td>\n",
       "      <td>21.78</td>\n",
       "      <td>Ganesh Krishna Lakshmisetty</td>\n",
       "    </tr>\n",
       "    <tr>\n",
       "      <th>1</th>\n",
       "      <td>2022-11-03</td>\n",
       "      <td>American Fast Foods</td>\n",
       "      <td>General</td>\n",
       "      <td>5.19</td>\n",
       "      <td>Sayed Mohammad Sohail</td>\n",
       "    </tr>\n",
       "    <tr>\n",
       "      <th>2</th>\n",
       "      <td>2022-11-03</td>\n",
       "      <td>Uber_and_Lyft</td>\n",
       "      <td>Taxi</td>\n",
       "      <td>9.66</td>\n",
       "      <td>Surya</td>\n",
       "    </tr>\n",
       "    <tr>\n",
       "      <th>3</th>\n",
       "      <td>2022-11-03</td>\n",
       "      <td>Household</td>\n",
       "      <td>General</td>\n",
       "      <td>23.72</td>\n",
       "      <td>Sayed Mohammad Sohail</td>\n",
       "    </tr>\n",
       "    <tr>\n",
       "      <th>4</th>\n",
       "      <td>2022-11-04</td>\n",
       "      <td>Uber_and_Lyft</td>\n",
       "      <td>Taxi</td>\n",
       "      <td>33.01</td>\n",
       "      <td>K Nithin</td>\n",
       "    </tr>\n",
       "    <tr>\n",
       "      <th>5</th>\n",
       "      <td>2022-11-04</td>\n",
       "      <td>American Fast Foods</td>\n",
       "      <td>Dining out</td>\n",
       "      <td>16.22</td>\n",
       "      <td>K Nithin</td>\n",
       "    </tr>\n",
       "    <tr>\n",
       "      <th>6</th>\n",
       "      <td>2022-11-04</td>\n",
       "      <td>Household</td>\n",
       "      <td>General</td>\n",
       "      <td>3.75</td>\n",
       "      <td>K Nithin</td>\n",
       "    </tr>\n",
       "    <tr>\n",
       "      <th>7</th>\n",
       "      <td>2022-11-04</td>\n",
       "      <td>Costco &amp; similar</td>\n",
       "      <td>Household supplies</td>\n",
       "      <td>3.64</td>\n",
       "      <td>K Nithin</td>\n",
       "    </tr>\n",
       "    <tr>\n",
       "      <th>8</th>\n",
       "      <td>2022-11-05</td>\n",
       "      <td>Walmart</td>\n",
       "      <td>Groceries</td>\n",
       "      <td>2.32</td>\n",
       "      <td>Sayed Mohammad Sohail</td>\n",
       "    </tr>\n",
       "    <tr>\n",
       "      <th>9</th>\n",
       "      <td>2022-11-05</td>\n",
       "      <td>Walmart</td>\n",
       "      <td>Groceries</td>\n",
       "      <td>51.04</td>\n",
       "      <td>Sayed Mohammad Sohail</td>\n",
       "    </tr>\n",
       "  </tbody>\n",
       "</table>\n",
       "</div>"
      ],
      "text/plain": [
       "        Date          Description            Category   Cost  \\\n",
       "0 2022-11-02        Halal Chicken           Groceries  21.78   \n",
       "1 2022-11-03  American Fast Foods             General   5.19   \n",
       "2 2022-11-03        Uber_and_Lyft                Taxi   9.66   \n",
       "3 2022-11-03            Household             General  23.72   \n",
       "4 2022-11-04        Uber_and_Lyft                Taxi  33.01   \n",
       "5 2022-11-04  American Fast Foods          Dining out  16.22   \n",
       "6 2022-11-04            Household             General   3.75   \n",
       "7 2022-11-04     Costco & similar  Household supplies   3.64   \n",
       "8 2022-11-05              Walmart           Groceries   2.32   \n",
       "9 2022-11-05              Walmart           Groceries  51.04   \n",
       "\n",
       "                  Person_spent  \n",
       "0  Ganesh Krishna Lakshmisetty  \n",
       "1        Sayed Mohammad Sohail  \n",
       "2                        Surya  \n",
       "3        Sayed Mohammad Sohail  \n",
       "4                     K Nithin  \n",
       "5                     K Nithin  \n",
       "6                     K Nithin  \n",
       "7                     K Nithin  \n",
       "8        Sayed Mohammad Sohail  \n",
       "9        Sayed Mohammad Sohail  "
      ]
     },
     "execution_count": 22,
     "metadata": {},
     "output_type": "execute_result"
    }
   ],
   "source": [
    "df.head(10\n",
    "        )"
   ]
  },
  {
   "cell_type": "markdown",
   "metadata": {},
   "source": [
    "## saving to csv"
   ]
  },
  {
   "cell_type": "code",
   "execution_count": 23,
   "metadata": {},
   "outputs": [],
   "source": [
    "df.to_csv('cleaned_data.csv', index=False)"
   ]
  },
  {
   "cell_type": "code",
   "execution_count": null,
   "metadata": {},
   "outputs": [],
   "source": []
  }
 ],
 "metadata": {
  "kernelspec": {
   "display_name": "Python 3",
   "language": "python",
   "name": "python3"
  },
  "language_info": {
   "codemirror_mode": {
    "name": "ipython",
    "version": 3
   },
   "file_extension": ".py",
   "mimetype": "text/x-python",
   "name": "python",
   "nbconvert_exporter": "python",
   "pygments_lexer": "ipython3",
   "version": "3.12.0"
  }
 },
 "nbformat": 4,
 "nbformat_minor": 2
}
